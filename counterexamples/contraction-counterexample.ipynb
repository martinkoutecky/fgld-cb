{
 "cells": [
  {
   "cell_type": "markdown",
   "id": "5a24dd08",
   "metadata": {},
   "source": [
    "Hi,\n",
    "so this is the first thing that comes to my mind:\n",
    "\n",
    "1. $n$ agents, $m$ projects\n",
    "1. in iterations, add \"chaos\":\n",
    "  1. randomly choose a project $p$ and a random cycle $C$ on a set of some $z$ agents that are not yet doing anything with this project $p$ **and at least one other project** (can be different for each voter in $C$);\n",
    "  1. for each agent in this cycle, choose a superset of projects $S$, $p \\in S$, to delegate to the next agent on the cycle (e.g., if we choose project $p_1$ and agents $a, b, c$, we can delegate $\\{p_1,p_2\\}$ from $a$ to $b$; delegate $\\{p_1, p_3, p_{65}\\}$ from $b$ to $c$; and delegate $\\{p_1, p_6\\}$ from $c$ to $a$)\n",
    "  1. halt whenever you cannot find more chaos to add = there is no project $p$ which is non-delegated by $\\geq 2$ agents s.t. each agent has at least one other non-delegated project.\n",
    "1. the variables are budgets for the parts of the partition\n",
    "\n",
    "\n"
   ]
  },
  {
   "cell_type": "code",
   "execution_count": 1,
   "id": "198a4af0",
   "metadata": {},
   "outputs": [],
   "source": [
    "import random, itertools, os\n",
    "from collections import defaultdict\n",
    "from frozendict import frozendict\n",
    "import pyomo.environ as pyo\n",
    "#os.environ[\"PATH\"] +=\":/home/martin/BIG/gurobi912/linux64/bin/\"\n",
    "#os.environ[\"GUROBI_HOME\"] = \"/home/martin/BIG/gurobi912/linux64/\""
   ]
  },
  {
   "cell_type": "code",
   "execution_count": 2,
   "id": "4b3b713a",
   "metadata": {},
   "outputs": [],
   "source": [
    "n = 10 # number of voters\n",
    "m = 5 # number of projects"
   ]
  },
  {
   "cell_type": "code",
   "execution_count": 3,
   "id": "25515ac7",
   "metadata": {},
   "outputs": [],
   "source": [
    "def create(n,m):\n",
    "    voters = defaultdict(dict)\n",
    "    # voters[i][S] = some voter v' to whom i delegates S\n",
    "    voters_unassigned = {v:set(range(m)) for v in range(n)}\n",
    "    # voters_unassigned[i] = set of projects that i does not yet assign to anyone\n",
    "    projects = list(range(m))\n",
    "    projects_to_assign = {p:set(range(n)) for p in range(m)}\n",
    "    # project_to_assign[p] = set of voters who do not yet delegate p\n",
    "    \n",
    "    while True:\n",
    "        random.shuffle(projects)\n",
    "        for p in projects:\n",
    "            found = False\n",
    "            if len(projects_to_assign[p]) == 1:\n",
    "                # only one voter doesn't do anything with p\n",
    "                # delegate it to himself\n",
    "                v = projects_to_assign[p].pop()\n",
    "                voters[v][frozenset([p])] = v\n",
    "                voters_unassigned[v].remove(p)\n",
    "                continue\n",
    "            feasible_voters = [v for v in projects_to_assign[p] if len(voters_unassigned[v]) > 1]\n",
    "            if len(feasible_voters) < 2:\n",
    "                # no way to put the available voters in a non-trivial cycle\n",
    "                continue\n",
    "            found = True\n",
    "            break\n",
    "        if not found:\n",
    "            break\n",
    "            \n",
    "        #print(\"feasible_voters:\", feasible_voters)\n",
    "        z = random.randint(2,len(feasible_voters))\n",
    "        C = random.sample(feasible_voters,z)\n",
    "        #print(\"C:\",C)\n",
    "        for (i,v) in enumerate(C):\n",
    "            s = random.randint(1,len(voters_unassigned[v])-1)\n",
    "            S = set(random.sample(list((pp for pp in voters_unassigned[v] if pp != p)),s))\n",
    "            #print(\"S:\",S,\"list(voters_unassigned[v]):\",list(voters_unassigned[v]))\n",
    "            S.add(p)\n",
    "            voters[v][frozenset(S)] = C[(i+1)%z]\n",
    "            voters_unassigned[v] -= S\n",
    "            #print(\"S:\",S, \"v:\",v,\"p:\",p,\"s:\", s)\n",
    "            for pp in S:\n",
    "                #print(\"pp:\",pp,\"projects_to_assign[pp]\",projects_to_assign[pp])\n",
    "                #print(\"voters[v]\",voters[v])\n",
    "                projects_to_assign[pp].remove(v)\n",
    "    \n",
    "    # Assign remaining non-assigned project to one-self (no delegation)\n",
    "    for v in range(n):\n",
    "        for p in list(voters_unassigned[v]):\n",
    "                #v = projects_to_assign[p].pop()\n",
    "                voters[v][frozenset([p])] = v\n",
    "                voters_unassigned[v].remove(p)\n",
    "                projects_to_assign[p].remove(v)\n",
    "    \n",
    "    #print(\"projects_to_assign:\",projects_to_assign)\n",
    "    #print(\"voters_unassigned:\", voters_unassigned)\n",
    "    \n",
    "    return voters\n",
    "        \n",
    "    #random.shuffle\n",
    "    #random.randint(a,b)\n",
    "    "
   ]
  },
  {
   "cell_type": "markdown",
   "id": "d1bdcd8a",
   "metadata": {},
   "source": [
    "The result of the above function is a dictionary `res` indexed by the voters, such that for a voter $v$, `res[v]` is the partition of projects, e.g. `res[v][S]=d` if $v$ delegates $S \\subseteq [m]$ to $d \\in [n]$, and if $d=v$ then it means that $v$ is delegating this to himself. \n",
    "\n",
    "The optimization problem is to find an \"initial solution\" $(x_{ij})_{(i,j) \\in [n] \\times [m]}$ such that $\\|x - f(x)\\| \\leq \\|f(x) - f(f(x))\\|$ under some norm, which would prove that $f$ is not contracting for this instance. $f$ is defined to exactly preserve the solution for self-delegated bundles (i.e. those $x$'s are constants) and to satisfy some notion of proportionality for the rest."
   ]
  },
  {
   "cell_type": "code",
   "execution_count": 4,
   "id": "874d6017",
   "metadata": {},
   "outputs": [],
   "source": [
    "res = create(n,m)\n",
    "#print(res)\n",
    "# Verification that we really did delegate everything etc.\n",
    "for (p,pp) in itertools.combinations(range(m),2):\n",
    "    vs = []\n",
    "    for v in range(n):\n",
    "        SS = set()\n",
    "        for S in res[v].keys():\n",
    "            SS = SS.union(S)\n",
    "        if (p not in SS) and (pp not in SS):\n",
    "            vs.append(v)\n",
    "    #vs = [v for v in res if (p not in set().union(res[v].keys())) and (pp not in set().union(res[v].keys()))]\n",
    "    if len(vs) > 1:\n",
    "        print (p,pp)\n",
    "\n",
    "for v in res:\n",
    "    for S in res[v]:\n",
    "        if len(S) == 1:\n",
    "            if res[v][S] != v:\n",
    "                print(v,S)"
   ]
  },
  {
   "cell_type": "code",
   "execution_count": 5,
   "id": "83845a11",
   "metadata": {},
   "outputs": [
    {
     "data": {
      "text/plain": [
       "{frozenset({0, 1, 2, 3, 4}): 8}"
      ]
     },
     "execution_count": 5,
     "metadata": {},
     "output_type": "execute_result"
    }
   ],
   "source": [
    "res[4]"
   ]
  },
  {
   "cell_type": "markdown",
   "id": "fd12c6b4",
   "metadata": {},
   "source": [
    "## The Model"
   ]
  },
  {
   "cell_type": "code",
   "execution_count": 14,
   "id": "f8c0f192",
   "metadata": {},
   "outputs": [],
   "source": [
    "def contraction_counterexample_model(res, n,m,fix_weights=False, even_split=False,proportionality=\"martin\",horizon=3):\n",
    "    model = pyo.ConcreteModel()\n",
    "\n",
    "    model.three = pyo.RangeSet(1,horizon)\n",
    "    model.two = pyo.RangeSet(1,horizon-1)\n",
    "    model.I = pyo.RangeSet(0, n-1)\n",
    "    model.J = pyo.RangeSet(0, m-1)\n",
    "\n",
    "    model.x = pyo.Var(model.three, model.I, model.J, domain=pyo.UnitInterval)\n",
    "    model.d = pyo.Var(model.I, model.J, domain=pyo.UnitInterval) # defaults\n",
    "\n",
    "    model.D = pyo.Set(initialize=list((v,S) for v in res for S in res[v])) # delegated sets\n",
    "    model.DD = pyo.Set(initialize=list(((v,S,p) for v in res for S in res[v] for p in S))) # delegated sets \\times projects\n",
    "    model.DDD = pyo.Set(initialize=list(((i,v,S,p) for i in model.two for v in res for S in res[v] for p in S))) # delegated horizon-1 \\ times sets \\times projects\n",
    "    model.b = pyo.Var(model.D, domain=pyo.UnitInterval) # budget variables\n",
    "    if not fix_weights:\n",
    "        model.w = pyo.Var(model.D, domain=pyo.NonNegativeReals, bounds=(1,5), initialize=10) # delegation weights variables\n",
    "        #model.w = pyo.Var(model.D, domain=pyo.Integers, bounds=(1,5)) # delegation weights variables\n",
    "    else:\n",
    "        model.w = {(v,S): 10 for v in res for S in res[v]}\n",
    "    \n",
    "    def x_budget_constraint_rule(m,v,S):\n",
    "        return sum(model.x[(1,v,j)] for j in S) == model.b[(v,S)]\n",
    "\n",
    "    model.x_budget_constraints = pyo.Constraint(model.D, rule=x_budget_constraint_rule)\n",
    "\n",
    "    def defaults_constraint_rule(m,v,S):\n",
    "        return sum(model.d[(v,j)] for j in S) == model.b[(v,S)]\n",
    "    \n",
    "    def defaults_constraint_even_split_rule(m,v,S,p):\n",
    "        return model.d[(v,p)] == model.b[(v,S)] / len(S)\n",
    "\n",
    "    if even_split:\n",
    "        model.defaults_constraints = pyo.Constraint(model.DD, rule=defaults_constraint_even_split_rule)\n",
    "    else:\n",
    "        model.defaults_constraints = pyo.Constraint(model.D, rule=defaults_constraint_rule)\n",
    "\n",
    "    def budget_simplex_constraint_rule(m,v):\n",
    "        return sum(model.b[(v,S)] for S in res[v]) == 1\n",
    "\n",
    "    model.budget_simplex_constraints = pyo.Constraint(model.I, rule=budget_simplex_constraint_rule)\n",
    "    # model.b[(v,S)] = how much budget we give delegation S\n",
    "    # model.w[(v,S)] = how much weight we give the delegate\n",
    "\n",
    "\n",
    "    # m is the model, always an implicit argument\n",
    "    def simplex_rule(m, i):\n",
    "        return sum(m.x[(1,i,j)] for j in m.J) == 1\n",
    "\n",
    "    # the next line creates one constraint for each member of the set model.I\n",
    "    # sum of contributions of one voter over all projects is 1\n",
    "    model.simplex_constraints = pyo.Constraint(model.I, rule=simplex_rule)\n",
    "    # Proportionality constraints\n",
    "\n",
    "    def martin_proportionality_rule(m,it,v,S,p):\n",
    "        # m is model, v voter, S delegated subset, it=1 or 2 is iteration\n",
    "        delegate = res[v][S]\n",
    "        denominator = sum(m.d[(v,p)] + m.w[(v,S)]*m.x[(it,delegate,p)] for p in S)\n",
    "        return m.x[(it+1,v,p)] == ((m.d[(v,p)] + m.w[(v,S)]*m.x[(it,delegate,p)]) / denominator) * m.b[(v,S)]\n",
    "    \n",
    "    def original_proportionality_rule(m,it,v,S,p):\n",
    "        # m is model, v voter, S delegated subset, it=1 or 2 is iteration\n",
    "        delegate = res[v][S]\n",
    "        denominator = sum(m.x[(it,delegate,p)] for p in S)\n",
    "        return m.x[(it+1,v,p)] == ((m.x[(it,delegate,p)]) / denominator) * m.b[(v,S)]\n",
    "    \n",
    "    if proportionality == \"martin\":\n",
    "        proportionality_rule = martin_proportionality_rule\n",
    "    elif proportionality == \"original\":\n",
    "        proportionality_rule = original_proportionality_rule\n",
    "\n",
    "    def first_prop_rule(m,v,S,p):\n",
    "        return proportionality_rule(m,1,v,S,p)\n",
    "\n",
    "    def second_prop_rule(m,v,S,p):\n",
    "        return proportionality_rule(m,2,v,S,p)\n",
    "    \n",
    "    #model.first_proportionality = pyo.Constraint(model.DD, rule=first_prop_rule)\n",
    "    #model.second_proportionality = pyo.Constraint(model.DD, rule=second_prop_rule)\n",
    "    model.proportionality = pyo.Constraint(model.DDD, rule=proportionality_rule)\n",
    "    \n",
    "    def initial_constraint_defaults_rule(m,v,p):\n",
    "        return model.x[(1,v,p)] == model.d[(v,p)]\n",
    "    \n",
    "    #model.initial_defaults = pyo.Constraint(model.I, model.J, rule=initial_constraint_defaults_rule)\n",
    "    \n",
    "    def initial_constraint_evensplit_rule(m,v,S,p):\n",
    "        # TODO must fix - to define so it works even if d is not even split\n",
    "        return model.x[(1,v,p)] == model.b[(v,S)] / len(S)\n",
    "    \n",
    "    model.initial_evensplit = pyo.Constraint(model.DD, rule=initial_constraint_evensplit_rule)\n",
    "    \n",
    "    def objective_rule(m):\n",
    "        # L1 norm\n",
    "        # Horizon in the sense of dist(x,f^k(x)) < dist(f(x), f^{k+1}(x))\n",
    "        #Delta1 = sum(abs(m.x[(1,i,j)] - m.x[(horizon-1,i,j)]) for i in m.I for j in m.J)\n",
    "        #Delta2 = sum(abs(m.x[(2,i,j)] - m.x[(horizon,i,j)]) for i in m.I for j in m.J)\n",
    "        # Horizon in the sense of dist(x, f(x)) < dist(f^k(x), f^{k+1}(x))\n",
    "        Delta1 = sum(abs(m.x[(horizon-2,i,j)] - m.x[(horizon-1,i,j)]) for i in m.I for j in m.J)\n",
    "        Delta2 = sum(abs(m.x[(horizon-1,i,j)] - m.x[(horizon,i,j)]) for i in m.I for j in m.J)\n",
    "        # L2\n",
    "        #Delta1 = sum((m.x[(1,i,j)] - m.x[(2,i,j)])**2 for i in m.I for j in m.J)\n",
    "        #Delta2 = sum((m.x[(2,i,j)] - m.x[(3,i,j)])**2 for i in m.I for j in m.J)\n",
    "        return Delta2 - Delta1\n",
    "    model.OBJ = pyo.Objective(rule=objective_rule,sense=pyo.maximize)\n",
    "    \n",
    "    return model"
   ]
  },
  {
   "cell_type": "code",
   "execution_count": 15,
   "id": "466e6236",
   "metadata": {},
   "outputs": [],
   "source": [
    "n=10\n",
    "m=5\n",
    "res = create(n,m)"
   ]
  },
  {
   "cell_type": "code",
   "execution_count": 19,
   "id": "710f267f",
   "metadata": {},
   "outputs": [
    {
     "name": "stdout",
     "output_type": "stream",
     "text": [
      "WARNING: Loading a SolverResults object with a warning status into\n",
      "    model.name=\"unknown\";\n",
      "      - termination condition: maxIterations\n",
      "      - message from solver: Ipopt 3.14.4\\x3a Maximum Number of Iterations\n",
      "        Exceeded.\n",
      "CPU times: user 208 ms, sys: 54 ms, total: 262 ms\n",
      "Wall time: 4.23 s\n",
      "\n",
      "*************************\n",
      "obj: -0.038067886745269286\n",
      "*************************\n",
      "WARNING: Loading a SolverResults object with a warning status into\n",
      "    model.name=\"unknown\";\n",
      "      - termination condition: maxIterations\n",
      "      - message from solver: Ipopt 3.14.4\\x3a Maximum Number of Iterations\n",
      "        Exceeded.\n",
      "CPU times: user 199 ms, sys: 59.6 ms, total: 258 ms\n",
      "Wall time: 4.05 s\n",
      "\n",
      "*************************\n",
      "obj: -0.27782714970077044\n",
      "*************************\n",
      "WARNING: Loading a SolverResults object with a warning status into\n",
      "    model.name=\"unknown\";\n",
      "      - termination condition: maxIterations\n",
      "      - message from solver: Ipopt 3.14.4\\x3a Maximum Number of Iterations\n",
      "        Exceeded.\n",
      "CPU times: user 202 ms, sys: 79.6 ms, total: 282 ms\n",
      "Wall time: 6.65 s\n",
      "\n",
      "*************************\n",
      "obj: 0.3697859583064824\n",
      "*************************\n",
      "*************************\n",
      "Found it!\n",
      "*************************\n"
     ]
    }
   ],
   "source": [
    "for i in range(100):\n",
    "    res = create(n,m)\n",
    "    model = contraction_counterexample_model(res, n,m,fix_weights=True, even_split=False,proportionality=\"martin\",horizon=3)\n",
    "    \n",
    "    opt = pyo.SolverFactory(\"ipopt\")\n",
    "    %time results = opt.solve(model)\n",
    "    #%time results = opt.solve(model, iterations=-1, HCS_max_iterations=10, HCS_tolerance=0.01, stopping_delta=0.99, stopping_mass=0.99, strategy=\"rand\")\n",
    "    #%time results = opt.solve(model, iterations=10, strategy=\"midpoint_guess_and_bound\")\n",
    "    #%time results = opt.solve(model, iterations=5, strategy=\"rand_guess_and_bound\")\n",
    "    #%time results = opt.solve(model, iterations=10, strategy=\"rand_distributed\")\n",
    "    #%time results = opt.solve(model, iterations=10, strategy=\"midpoint\")\n",
    "    #results.write()\n",
    "    try: obj = pyo.value(model.OBJ)\n",
    "    except ValueError: continue\n",
    "    print()\n",
    "    print(\"*************************\")\n",
    "    print(\"obj:\", obj)\n",
    "    print(\"*************************\")\n",
    "    if obj > 0.1:\n",
    "        print(\"*************************\")\n",
    "        print(\"Found it!\")\n",
    "        print(\"*************************\")\n",
    "        break"
   ]
  },
  {
   "cell_type": "code",
   "execution_count": 21,
   "id": "34c6c0d4-2dbd-4003-92af-f39ddea950c9",
   "metadata": {},
   "outputs": [],
   "source": [
    "# Weights are all 10\n",
    "# Default are all evensplit\n",
    "import numpy as np\n",
    "b = dict()\n",
    "for v in res:\n",
    "    for S in res[v]:\n",
    "        b[(v,S)] = model.b[(v,S)].value\n",
    "# x is fixedpoint, y is some solution\n",
    "x = np.zeros((n,m))\n",
    "for i in model.I:\n",
    "    for j in model.J:\n",
    "        x[i,j] = model.x[(1,i,j)].value\n",
    "counterexample = {\"res\": res, \"x\": x,\"b\":b}"
   ]
  },
  {
   "cell_type": "code",
   "execution_count": 22,
   "id": "91cb0733-46ca-496d-9c6b-1204481d0e13",
   "metadata": {},
   "outputs": [],
   "source": [
    "#import cloudpickle as pickle\n",
    "import pickle\n",
    "name=\"n_10_m_5_contraction_fixedweights\"\n",
    "backup = open(name+\".pickle\",\"wb\")\n",
    "#model_file = open(name+\"_model.pickle\",\"wb\")\n",
    "pickle.dump(counterexample,backup)\n",
    "backup.close()"
   ]
  },
  {
   "cell_type": "code",
   "execution_count": 23,
   "id": "4239a255-3743-4518-adbf-2a3cd4c86c32",
   "metadata": {},
   "outputs": [
    {
     "data": {
      "text/plain": [
       "defaultdict(dict,\n",
       "            {5: {frozenset({0, 1, 3, 4}): 9, frozenset({2}): 5},\n",
       "             9: {frozenset({0, 2, 3, 4}): 0, frozenset({1}): 9},\n",
       "             0: {frozenset({0, 1, 2, 3, 4}): 8},\n",
       "             8: {frozenset({0, 1, 2, 3, 4}): 3},\n",
       "             3: {frozenset({1, 3, 4}): 2, frozenset({0, 2}): 4},\n",
       "             2: {frozenset({1, 4}): 7,\n",
       "              frozenset({0, 3}): 7,\n",
       "              frozenset({2}): 2},\n",
       "             7: {frozenset({2, 4}): 5,\n",
       "              frozenset({0, 3}): 2,\n",
       "              frozenset({1}): 7},\n",
       "             1: {frozenset({0, 1, 2, 4}): 6, frozenset({3}): 1},\n",
       "             6: {frozenset({0, 1, 2, 3}): 1, frozenset({4}): 6},\n",
       "             4: {frozenset({0, 2, 3, 4}): 3, frozenset({1}): 4}})"
      ]
     },
     "execution_count": 23,
     "metadata": {},
     "output_type": "execute_result"
    }
   ],
   "source": [
    "res"
   ]
  },
  {
   "cell_type": "code",
   "execution_count": 24,
   "id": "3ea0dbab-fd26-4a9d-ab6c-5461f8ba01bf",
   "metadata": {},
   "outputs": [
    {
     "data": {
      "text/plain": [
       "{(5, frozenset({0, 1, 3, 4})): 0.7848317687777767,\n",
       " (5, frozenset({2})): 0.2151682308692209,\n",
       " (9, frozenset({0, 2, 3, 4})): 0.7981080790811242,\n",
       " (9, frozenset({1})): 0.2018919209257236,\n",
       " (0, frozenset({0, 1, 2, 3, 4})): 0.99999998942934,\n",
       " (8, frozenset({0, 1, 2, 3, 4})): 0.9999999894292197,\n",
       " (3, frozenset({1, 3, 4})): 0.6478262864823251,\n",
       " (3, frozenset({0, 2})): 0.352173713467751,\n",
       " (2, frozenset({1, 4})): 0.7473931310002383,\n",
       " (2, frozenset({0, 3})): 0.05137731373621123,\n",
       " (2, frozenset({2})): 0.20122955502853174,\n",
       " (7, frozenset({2, 4})): 0.49758406472008726,\n",
       " (7, frozenset({0, 3})): 0.25618809156829514,\n",
       " (7, frozenset({1})): 0.24622784390457378,\n",
       " (1, frozenset({0, 1, 2, 4})): 0.79553846092885,\n",
       " (1, frozenset({3})): 0.20446153893521685,\n",
       " (6, frozenset({0, 1, 2, 3})): 0.7955384609294323,\n",
       " (6, frozenset({4})): 0.20446153893463323,\n",
       " (4, frozenset({0, 2, 3, 4})): 0.9574707617030919,\n",
       " (4, frozenset({1})): 0.04252923822653633}"
      ]
     },
     "execution_count": 24,
     "metadata": {},
     "output_type": "execute_result"
    }
   ],
   "source": [
    "b"
   ]
  },
  {
   "cell_type": "code",
   "execution_count": 25,
   "id": "b71a4641-dc28-4299-9bc4-318767b54f79",
   "metadata": {},
   "outputs": [
    {
     "data": {
      "text/plain": [
       "array([[0.2       , 0.2       , 0.2       , 0.2       , 0.2       ],\n",
       "       [0.19888461, 0.19888461, 0.19888461, 0.20446154, 0.19888462],\n",
       "       [0.02568866, 0.37369657, 0.20122956, 0.02568865, 0.37369657],\n",
       "       [0.17608686, 0.2159421 , 0.17608686, 0.2159421 , 0.2159421 ],\n",
       "       [0.23936769, 0.04252924, 0.23936769, 0.23936769, 0.23936769],\n",
       "       [0.19620794, 0.19620794, 0.21516823, 0.19620794, 0.19620794],\n",
       "       [0.19888461, 0.19888461, 0.19888461, 0.19888462, 0.20446154],\n",
       "       [0.12809405, 0.24622784, 0.24879203, 0.12809405, 0.24879203],\n",
       "       [0.2       , 0.2       , 0.2       , 0.2       , 0.2       ],\n",
       "       [0.19952702, 0.20189192, 0.19952702, 0.19952702, 0.19952702]])"
      ]
     },
     "execution_count": 25,
     "metadata": {},
     "output_type": "execute_result"
    }
   ],
   "source": [
    "x"
   ]
  },
  {
   "cell_type": "code",
   "execution_count": null,
   "id": "67eb79b1-9488-4166-9ca4-68aee06bf4da",
   "metadata": {},
   "outputs": [],
   "source": []
  }
 ],
 "metadata": {
  "kernelspec": {
   "display_name": "Python 3 (ipykernel)",
   "language": "python",
   "name": "python3"
  },
  "language_info": {
   "codemirror_mode": {
    "name": "ipython",
    "version": 3
   },
   "file_extension": ".py",
   "mimetype": "text/x-python",
   "name": "python",
   "nbconvert_exporter": "python",
   "pygments_lexer": "ipython3",
   "version": "3.9.10"
  }
 },
 "nbformat": 4,
 "nbformat_minor": 5
}
